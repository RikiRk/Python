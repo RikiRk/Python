{
  "cells": [
    {
      "cell_type": "code",
      "execution_count": 13,
      "id": "e287e709-5c0e-4e81-aad6-e29559ac0b33",
      "metadata": {
        "id": "e287e709-5c0e-4e81-aad6-e29559ac0b33",
        "outputId": "8a7c76c2-242c-4968-9741-a1d17539a6b4"
      },
      "outputs": [
        {
          "name": "stdout",
          "output_type": "stream",
          "text": [
            "this is my print stamt\n"
          ]
        }
      ],
      "source": [
        "print(\"this is my print stamt\")"
      ]
    },
    {
      "cell_type": "code",
      "execution_count": 14,
      "id": "5cc7ab69-4e65-4493-8870-66182dddcdba",
      "metadata": {
        "id": "5cc7ab69-4e65-4493-8870-66182dddcdba"
      },
      "outputs": [],
      "source": [
        "import logging"
      ]
    },
    {
      "cell_type": "code",
      "execution_count": 15,
      "id": "a1ea1d80-f688-47c4-a3fa-5bcebeae5bb9",
      "metadata": {
        "id": "a1ea1d80-f688-47c4-a3fa-5bcebeae5bb9"
      },
      "outputs": [],
      "source": [
        "logging.basicConfig(filename = \"test.log\" , level = logging.INFO)"
      ]
    },
    {
      "cell_type": "code",
      "execution_count": 16,
      "id": "fa03c76c-b133-4593-8d4d-2c1b4c860c0d",
      "metadata": {
        "id": "fa03c76c-b133-4593-8d4d-2c1b4c860c0d"
      },
      "outputs": [],
      "source": [
        "logging.info(\"this is my line of execution \")"
      ]
    },
    {
      "cell_type": "code",
      "execution_count": 17,
      "id": "f69b8fd8-41ee-4926-ad87-c7d0099d3a3f",
      "metadata": {
        "id": "f69b8fd8-41ee-4926-ad87-c7d0099d3a3f"
      },
      "outputs": [],
      "source": [
        "logging.error(\"this is my error\")"
      ]
    },
    {
      "cell_type": "code",
      "execution_count": 18,
      "id": "21d6837a-fc55-4849-a259-09943c65d23d",
      "metadata": {
        "id": "21d6837a-fc55-4849-a259-09943c65d23d"
      },
      "outputs": [],
      "source": [
        "logging.critical(\"this is my critical\")"
      ]
    },
    {
      "cell_type": "code",
      "execution_count": 19,
      "id": "6a5103a1-1250-4be7-8258-6f65929887b8",
      "metadata": {
        "id": "6a5103a1-1250-4be7-8258-6f65929887b8"
      },
      "outputs": [],
      "source": [
        "logging.warning(\"this is my warning \")"
      ]
    },
    {
      "cell_type": "code",
      "execution_count": 20,
      "id": "68497c3e-f6d1-45bd-815d-2c882712f40f",
      "metadata": {
        "id": "68497c3e-f6d1-45bd-815d-2c882712f40f"
      },
      "outputs": [],
      "source": [
        "logging.debug(\"this is my info related to debug\")"
      ]
    },
    {
      "cell_type": "code",
      "execution_count": 21,
      "id": "e20fb467-1717-49ec-9192-e95a323a2299",
      "metadata": {
        "id": "e20fb467-1717-49ec-9192-e95a323a2299"
      },
      "outputs": [],
      "source": [
        "logging.shutdown()"
      ]
    },
    {
      "attachments": {},
      "cell_type": "markdown",
      "id": "0f708385",
      "metadata": {},
      "source": [
        "1. NOSET\n",
        "2. DEBUG\n",
        "3. INFO\n",
        "4. WARNING\n",
        "5. ERROR\n",
        "6. CRITICAL"
      ]
    },
    {
      "cell_type": "code",
      "execution_count": 22,
      "id": "e892f778-c0ef-4f7a-8082-1178a70b33ff",
      "metadata": {
        "id": "e892f778-c0ef-4f7a-8082-1178a70b33ff"
      },
      "outputs": [],
      "source": [
        "logging.basicConfig(filename = \"test1.log\" , level = logging.DEBUG ,format = '%(asctime)s %(message)s'  )"
      ]
    },
    {
      "cell_type": "code",
      "execution_count": 23,
      "id": "29fa8446-d82d-4830-9a91-25861acdf64d",
      "metadata": {
        "id": "29fa8446-d82d-4830-9a91-25861acdf64d"
      },
      "outputs": [],
      "source": [
        "logging.info(\"this is my info log\")"
      ]
    },
    {
      "cell_type": "code",
      "execution_count": 24,
      "id": "d1cd63d8-01fb-4caf-aed7-69ed4afd3324",
      "metadata": {
        "id": "d1cd63d8-01fb-4caf-aed7-69ed4afd3324"
      },
      "outputs": [],
      "source": [
        "logging.debug(\"this is my debug log\")"
      ]
    },
    {
      "cell_type": "code",
      "execution_count": 25,
      "id": "498c5cff-a437-4fa2-83a1-2739d29d2049",
      "metadata": {
        "id": "498c5cff-a437-4fa2-83a1-2739d29d2049"
      },
      "outputs": [],
      "source": [
        "logging.warning(\"this is my warning \")"
      ]
    },
    {
      "cell_type": "code",
      "execution_count": 26,
      "id": "85c20c00-ef99-454d-9a90-91e1ed4bd5d9",
      "metadata": {
        "id": "85c20c00-ef99-454d-9a90-91e1ed4bd5d9"
      },
      "outputs": [],
      "source": [
        "logging.shutdown()"
      ]
    },
    {
      "cell_type": "code",
      "execution_count": 27,
      "id": "08abf808-30f3-4287-9994-cd1c23d57164",
      "metadata": {
        "id": "08abf808-30f3-4287-9994-cd1c23d57164"
      },
      "outputs": [],
      "source": [
        "logging.basicConfig(filename = \"test3.log\" , level = logging.DEBUG, format = '%(asctime)s %(name)s %(levelname)s  %(message)s')"
      ]
    },
    {
      "cell_type": "code",
      "execution_count": 28,
      "id": "188a6dd8-a104-4735-89f1-956b55df493b",
      "metadata": {
        "id": "188a6dd8-a104-4735-89f1-956b55df493b"
      },
      "outputs": [],
      "source": [
        "logging.info(\"this is my info log\")"
      ]
    },
    {
      "cell_type": "code",
      "execution_count": 29,
      "id": "8484508d-308d-4ba4-8487-262432f064d8",
      "metadata": {
        "id": "8484508d-308d-4ba4-8487-262432f064d8"
      },
      "outputs": [],
      "source": [
        "l = [1,2,3,4,[4,5,6] , \"sudh\" ,\"kumar\"]"
      ]
    },
    {
      "cell_type": "code",
      "execution_count": 30,
      "id": "10dabf58-02e5-4a88-9d87-b46e3036b83b",
      "metadata": {
        "id": "10dabf58-02e5-4a88-9d87-b46e3036b83b"
      },
      "outputs": [],
      "source": [
        "l1_int = []\n",
        "l2_str = []\n",
        "for i in l : \n",
        "    logging.info(\"this is the start of my first for loop {}\".format(l))\n",
        "    logging.info(\"this is the value of i am logging {}\".format(i))\n",
        "    if type(i) == list:\n",
        "        for j in i :\n",
        "            logging.info(\"logggin my j {j} and i is {i}\".format(i = i ,j = j))\n",
        "            if type(j) == int :\n",
        "                l1_int.append(j)\n",
        "    elif type(i) == int :\n",
        "        l1_int.append(i)\n",
        "        \n",
        "    else :\n",
        "        if type(i) == str:\n",
        "            l2_str.append(i)\n",
        "logging.info(\"this is my final result  with all int {l1} ,with all str{l2}\".format(l1 =l1_int ,l2 =l2_str ))\n",
        "        "
      ]
    },
    {
      "cell_type": "code",
      "execution_count": 31,
      "id": "eecc58b7-6129-42cb-8e42-9f91dccec38e",
      "metadata": {
        "id": "eecc58b7-6129-42cb-8e42-9f91dccec38e",
        "outputId": "9806a99f-4b9e-4434-b475-64aeee6a2126"
      },
      "outputs": [
        {
          "data": {
            "text/plain": [
              "[1, 2, 3, 4, 4, 5, 6]"
            ]
          },
          "execution_count": 31,
          "metadata": {},
          "output_type": "execute_result"
        }
      ],
      "source": [
        "l1_int"
      ]
    },
    {
      "cell_type": "code",
      "execution_count": 32,
      "id": "dedfefa1-40c8-4dcc-b6cf-945162cc751b",
      "metadata": {
        "id": "dedfefa1-40c8-4dcc-b6cf-945162cc751b",
        "outputId": "7db2004d-615d-44b3-b5f2-a62fa282f369"
      },
      "outputs": [
        {
          "data": {
            "text/plain": [
              "['sudh', 'kumar']"
            ]
          },
          "execution_count": 32,
          "metadata": {},
          "output_type": "execute_result"
        }
      ],
      "source": [
        "l2_str"
      ]
    },
    {
      "cell_type": "code",
      "execution_count": null,
      "id": "8d9a5597-e529-4e0f-9fea-ec50f83c8e46",
      "metadata": {
        "id": "8d9a5597-e529-4e0f-9fea-ec50f83c8e46"
      },
      "outputs": [],
      "source": []
    }
  ],
  "metadata": {
    "colab": {
      "provenance": []
    },
    "kernelspec": {
      "display_name": "Python 3 (ipykernel)",
      "language": "python",
      "name": "python3"
    },
    "language_info": {
      "codemirror_mode": {
        "name": "ipython",
        "version": 3
      },
      "file_extension": ".py",
      "mimetype": "text/x-python",
      "name": "python",
      "nbconvert_exporter": "python",
      "pygments_lexer": "ipython3",
      "version": "3.10.4"
    }
  },
  "nbformat": 4,
  "nbformat_minor": 5
}
