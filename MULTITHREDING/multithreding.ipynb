{
 "cells": [
  {
   "cell_type": "code",
   "execution_count": 1,
   "metadata": {},
   "outputs": [],
   "source": [
    "import threading\n"
   ]
  },
  {
   "cell_type": "code",
   "execution_count": 2,
   "metadata": {},
   "outputs": [],
   "source": [
    "def test(id):\n",
    "    print(\"this is your id %d\" % id)"
   ]
  },
  {
   "cell_type": "code",
   "execution_count": 3,
   "metadata": {},
   "outputs": [
    {
     "name": "stdout",
     "output_type": "stream",
     "text": [
      "this is your id 11\n"
     ]
    }
   ],
   "source": [
    "test(11)"
   ]
  },
  {
   "cell_type": "code",
   "execution_count": 4,
   "metadata": {},
   "outputs": [
    {
     "name": "stdout",
     "output_type": "stream",
     "text": [
      "this is your id 12\n"
     ]
    }
   ],
   "source": [
    "test(12)"
   ]
  },
  {
   "cell_type": "code",
   "execution_count": 7,
   "metadata": {},
   "outputs": [
    {
     "data": {
      "text/plain": [
       "[<Thread(Thread-6 (test), initial)>,\n",
       " <Thread(Thread-7 (test), initial)>,\n",
       " <Thread(Thread-8 (test), initial)>]"
      ]
     },
     "execution_count": 7,
     "metadata": {},
     "output_type": "execute_result"
    }
   ],
   "source": [
    "thread = [threading.Thread(target=test, args=(i,)) for i in [10 ,1,3] ]\n",
    "thread"
   ]
  },
  {
   "cell_type": "code",
   "execution_count": 8,
   "metadata": {},
   "outputs": [
    {
     "name": "stdout",
     "output_type": "stream",
     "text": [
      "this is your id 10\n",
      "this is your id 1\n",
      "this is your id 3\n"
     ]
    }
   ],
   "source": [
    "for tc in thread:\n",
    "    tc.start()"
   ]
  },
  {
   "cell_type": "code",
   "execution_count": 13,
   "metadata": {},
   "outputs": [],
   "source": [
    "import urllib.request\n",
    "\n",
    "def fetch(url, filename):\n",
    "    urllib.request.urlretrieve(url, filename)"
   ]
  },
  {
   "cell_type": "code",
   "execution_count": 14,
   "metadata": {},
   "outputs": [],
   "source": [
    "urlList = ['https://raw.githubusercontent.com/itsfoss/text-files/master/agatha.txt' , 'https://raw.githubusercontent.com/itsfoss/text-files/master/sherlock.txt' ,'https://raw.githubusercontent.com/itsfoss/text-files/master/sample_log_file.txt']\n",
    "\n",
    "dataList = [\"data1.txt\", \"data2.txt\", \"data3.txt\"]\n"
   ]
  },
  {
   "cell_type": "code",
   "execution_count": 16,
   "metadata": {},
   "outputs": [],
   "source": [
    "thread1 = [threading.Thread(target=fetch, args=(urlList[i],dataList[i])) for i in range(len(urlList))]"
   ]
  },
  {
   "cell_type": "code",
   "execution_count": 17,
   "metadata": {},
   "outputs": [],
   "source": [
    "for tc in thread1:\n",
    "    tc.start()"
   ]
  },
  {
   "cell_type": "code",
   "execution_count": 10,
   "metadata": {},
   "outputs": [],
   "source": [
    "import time \n",
    "import threading\n",
    "\n",
    "def test1(x):\n",
    "    for i in range(10):\n",
    "        print(\" Value of x is - %d and this is the value of i - %d \" %(x,i))\n",
    "        time.sleep(1)"
   ]
  },
  {
   "cell_type": "code",
   "execution_count": 11,
   "metadata": {},
   "outputs": [],
   "source": [
    "thread2 = [threading.Thread(target=test1, args=(i,)) for i in [100 , 10 , 3, 4]]"
   ]
  },
  {
   "cell_type": "code",
   "execution_count": 12,
   "metadata": {},
   "outputs": [
    {
     "name": "stdout",
     "output_type": "stream",
     "text": [
      " Value of x is - 100 and this is the value of i - 0 \n",
      " Value of x is - 10 and this is the value of i - 0 \n",
      " Value of x is - 3 and this is the value of i - 0 \n",
      " Value of x is - 4 and this is the value of i - 0 \n"
     ]
    },
    {
     "name": "stdout",
     "output_type": "stream",
     "text": [
      " Value of x is - 100 and this is the value of i - 1  Value of x is - 10 and this is the value of i - 1 \n",
      " Value of x is - 4 and this is the value of i - 1 \n",
      " Value of x is - 3 and this is the value of i - 1 \n",
      "\n",
      " Value of x is - 100 and this is the value of i - 2  Value of x is - 10 and this is the value of i - 2 \n",
      " Value of x is - 4 and this is the value of i - 2 \n",
      " Value of x is - 3 and this is the value of i - 2 \n",
      "\n",
      " Value of x is - 10 and this is the value of i - 3  Value of x is - 100 and this is the value of i - 3 \n",
      "\n",
      " Value of x is - 3 and this is the value of i - 3 \n",
      " Value of x is - 4 and this is the value of i - 3 \n",
      " Value of x is - 100 and this is the value of i - 4  Value of x is - 4 and this is the value of i - 4 \n",
      "\n",
      " Value of x is - 3 and this is the value of i - 4 \n",
      " Value of x is - 10 and this is the value of i - 4 \n",
      " Value of x is - 10 and this is the value of i - 5  Value of x is - 100 and this is the value of i - 5 \n",
      "\n",
      " Value of x is - 4 and this is the value of i - 5 \n",
      " Value of x is - 3 and this is the value of i - 5 \n",
      " Value of x is - 100 and this is the value of i - 6  Value of x is - 3 and this is the value of i - 6 \n",
      "\n",
      " Value of x is - 4 and this is the value of i - 6 \n",
      " Value of x is - 10 and this is the value of i - 6 \n",
      " Value of x is - 10 and this is the value of i - 7  Value of x is - 100 and this is the value of i - 7 \n",
      "\n",
      " Value of x is - 3 and this is the value of i - 7 \n",
      " Value of x is - 4 and this is the value of i - 7 \n",
      " Value of x is - 100 and this is the value of i - 8  Value of x is - 3 and this is the value of i - 8 \n",
      "\n",
      " Value of x is - 4 and this is the value of i - 8 \n",
      " Value of x is - 10 and this is the value of i - 8 \n",
      " Value of x is - 4 and this is the value of i - 9 \n",
      " Value of x is - 100 and this is the value of i - 9 \n",
      " Value of x is - 10 and this is the value of i - 9 \n",
      " Value of x is - 3 and this is the value of i - 9 \n"
     ]
    }
   ],
   "source": [
    "for tc in thread2:\n",
    "    tc.start()"
   ]
  },
  {
   "cell_type": "code",
   "execution_count": null,
   "metadata": {},
   "outputs": [],
   "source": []
  }
 ],
 "metadata": {
  "kernelspec": {
   "display_name": "Python 3",
   "language": "python",
   "name": "python3"
  },
  "language_info": {
   "codemirror_mode": {
    "name": "ipython",
    "version": 3
   },
   "file_extension": ".py",
   "mimetype": "text/x-python",
   "name": "python",
   "nbconvert_exporter": "python",
   "pygments_lexer": "ipython3",
   "version": "3.10.4"
  },
  "orig_nbformat": 4
 },
 "nbformat": 4,
 "nbformat_minor": 2
}
