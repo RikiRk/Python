{
  "nbformat": 4,
  "nbformat_minor": 0,
  "metadata": {
    "colab": {
      "provenance": [],
      "authorship_tag": "ABX9TyPVyIEI29C7ujJsUYuGeNkU",
      "include_colab_link": true
    },
    "kernelspec": {
      "name": "python3",
      "display_name": "Python 3"
    },
    "language_info": {
      "name": "python"
    }
  },
  "cells": [
    {
      "cell_type": "markdown",
      "metadata": {
        "id": "view-in-github",
        "colab_type": "text"
      },
      "source": [
        "<a href=\"https://colab.research.google.com/github/RikiRk/Python/blob/main/OOPs1.ipynb\" target=\"_parent\"><img src=\"https://colab.research.google.com/assets/colab-badge.svg\" alt=\"Open In Colab\"/></a>"
      ]
    },
    {
      "cell_type": "code",
      "source": [
        "print(type(\"riki\"))"
      ],
      "metadata": {
        "colab": {
          "base_uri": "https://localhost:8080/"
        },
        "id": "wcWLOPmZAR8e",
        "outputId": "de7dfb17-9c65-4268-a0d1-dde9947fcccc"
      },
      "execution_count": null,
      "outputs": [
        {
          "output_type": "stream",
          "name": "stdout",
          "text": [
            "<class 'str'>\n"
          ]
        }
      ]
    },
    {
      "cell_type": "markdown",
      "source": [
        "what is class ? everyone says its a blueprint ! let's see\n"
      ],
      "metadata": {
        "id": "SVBvfkKbDSxy"
      }
    },
    {
      "cell_type": "code",
      "execution_count": null,
      "metadata": {
        "id": "biIvWyeh7lYz"
      },
      "outputs": [],
      "source": [
        "class test:\n",
        "  pass"
      ]
    },
    {
      "cell_type": "code",
      "source": [
        "a = test()\n",
        "print(type(a))"
      ],
      "metadata": {
        "colab": {
          "base_uri": "https://localhost:8080/"
        },
        "id": "TmhkJYr7KGsb",
        "outputId": "c33e6617-3f04-4bb7-80a3-a25ad44c0af4"
      },
      "execution_count": null,
      "outputs": [
        {
          "output_type": "stream",
          "name": "stdout",
          "text": [
            "<class '__main__.test'>\n"
          ]
        }
      ]
    },
    {
      "cell_type": "code",
      "source": [
        "class A:\n",
        "  def welcome_msg():\n",
        "    print(\"hello and welcome to OOPs\")"
      ],
      "metadata": {
        "id": "8mqpz65fKsxQ"
      },
      "execution_count": null,
      "outputs": []
    },
    {
      "cell_type": "code",
      "source": [
        "riki = A()\n",
        "riki.welcome_msg()"
      ],
      "metadata": {
        "colab": {
          "base_uri": "https://localhost:8080/",
          "height": 182
        },
        "id": "gjnXic_VbVC4",
        "outputId": "4dbe7099-3dab-4de9-8df3-deb3ba875a94"
      },
      "execution_count": null,
      "outputs": [
        {
          "output_type": "error",
          "ename": "TypeError",
          "evalue": "ignored",
          "traceback": [
            "\u001b[0;31m---------------------------------------------------------------------------\u001b[0m",
            "\u001b[0;31mTypeError\u001b[0m                                 Traceback (most recent call last)",
            "\u001b[0;32m<ipython-input-5-c2b9af5679ed>\u001b[0m in \u001b[0;36m<module>\u001b[0;34m\u001b[0m\n\u001b[1;32m      1\u001b[0m \u001b[0mriki\u001b[0m \u001b[0;34m=\u001b[0m \u001b[0mA\u001b[0m\u001b[0;34m(\u001b[0m\u001b[0;34m)\u001b[0m\u001b[0;34m\u001b[0m\u001b[0;34m\u001b[0m\u001b[0m\n\u001b[0;32m----> 2\u001b[0;31m \u001b[0mriki\u001b[0m\u001b[0;34m.\u001b[0m\u001b[0mwelcome_msg\u001b[0m\u001b[0;34m(\u001b[0m\u001b[0;34m)\u001b[0m\u001b[0;34m\u001b[0m\u001b[0;34m\u001b[0m\u001b[0m\n\u001b[0m",
            "\u001b[0;31mTypeError\u001b[0m: welcome_msg() takes 0 positional arguments but 1 was given"
          ]
        }
      ]
    },
    {
      "cell_type": "code",
      "source": [
        "class A:\n",
        "  def msg(self):\n",
        "    print(\"Welcome\")\n",
        "\n"
      ],
      "metadata": {
        "id": "pBN3yZgEbbmw"
      },
      "execution_count": null,
      "outputs": []
    },
    {
      "cell_type": "code",
      "source": [
        "rohan = A()\n",
        "rohan.msg()"
      ],
      "metadata": {
        "colab": {
          "base_uri": "https://localhost:8080/"
        },
        "id": "6pAyPQf5bxHy",
        "outputId": "1efdfcf9-6f80-4af5-8b06-eea08bcad574"
      },
      "execution_count": null,
      "outputs": [
        {
          "output_type": "stream",
          "name": "stdout",
          "text": [
            "Welcome\n"
          ]
        }
      ]
    },
    {
      "cell_type": "code",
      "source": [
        "class constructor:\n",
        "  # here is the the constructor\n",
        "  def __init__(self, phone_number, email_id, student_id):\n",
        "    self.phone_number = phone_number\n",
        "    self.email_id = email_id\n",
        "    self.student_id = student_id\n",
        "  def return_student_details(self):\n",
        "    return self.phone_number,self.email_id, self.student_id\n"
      ],
      "metadata": {
        "id": "uCW0F_kpb8Ea"
      },
      "execution_count": 10,
      "outputs": []
    },
    {
      "cell_type": "code",
      "source": [
        "Riki = constructor(123456777,\"RikIRk@gmail.com\",123)"
      ],
      "metadata": {
        "id": "QRws4kCbY5Ls"
      },
      "execution_count": 11,
      "outputs": []
    },
    {
      "cell_type": "code",
      "source": [
        "print(Riki)"
      ],
      "metadata": {
        "colab": {
          "base_uri": "https://localhost:8080/"
        },
        "id": "1G-y0gmNZLDI",
        "outputId": "5868fd69-7138-4825-822a-5c8e0888b7af"
      },
      "execution_count": 12,
      "outputs": [
        {
          "output_type": "stream",
          "name": "stdout",
          "text": [
            "<__main__.constructor object at 0x7f0838055520>\n"
          ]
        }
      ]
    },
    {
      "cell_type": "code",
      "source": [
        "Riki.student_id"
      ],
      "metadata": {
        "colab": {
          "base_uri": "https://localhost:8080/"
        },
        "id": "6te-HGsWZOAi",
        "outputId": "777e002f-e952-4331-f2bd-bab29c199cbe"
      },
      "execution_count": 13,
      "outputs": [
        {
          "output_type": "execute_result",
          "data": {
            "text/plain": [
              "123"
            ]
          },
          "metadata": {},
          "execution_count": 13
        }
      ]
    },
    {
      "cell_type": "code",
      "source": [
        "Riki.return_student_details()"
      ],
      "metadata": {
        "colab": {
          "base_uri": "https://localhost:8080/"
        },
        "id": "4ifc5RYzZXJJ",
        "outputId": "5ff83e6e-5a81-436d-e108-8e94b0f0ab57"
      },
      "execution_count": 14,
      "outputs": [
        {
          "output_type": "execute_result",
          "data": {
            "text/plain": [
              "(123456777, 'RikIRk@gmail.com', 123)"
            ]
          },
          "metadata": {},
          "execution_count": 14
        }
      ]
    },
    {
      "cell_type": "code",
      "source": [
        "Rk = constructor(456574,\"Rk@gmail.com\", 321)"
      ],
      "metadata": {
        "id": "HcFoNJLzcqkF"
      },
      "execution_count": 15,
      "outputs": []
    },
    {
      "cell_type": "code",
      "source": [
        "Rk.phone_number"
      ],
      "metadata": {
        "colab": {
          "base_uri": "https://localhost:8080/"
        },
        "id": "i1c6idP9emuv",
        "outputId": "12a151d1-7ff4-4736-9589-14ee9b82125c"
      },
      "execution_count": 16,
      "outputs": [
        {
          "output_type": "execute_result",
          "data": {
            "text/plain": [
              "456574"
            ]
          },
          "metadata": {},
          "execution_count": 16
        }
      ]
    },
    {
      "cell_type": "code",
      "source": [
        "Rk.return_student_details()"
      ],
      "metadata": {
        "colab": {
          "base_uri": "https://localhost:8080/"
        },
        "id": "CG8DFY_seqG5",
        "outputId": "a8005f9d-b106-4ea9-859f-2f15f3e52bca"
      },
      "execution_count": 17,
      "outputs": [
        {
          "output_type": "execute_result",
          "data": {
            "text/plain": [
              "(456574, 'Rk@gmail.com', 321)"
            ]
          },
          "metadata": {},
          "execution_count": 17
        }
      ]
    },
    {
      "cell_type": "code",
      "source": [
        "class notusingSelf:\n",
        "  def __init__(subha, phone_number, email_id, student_id):\n",
        "    subha.phone_number = phone_number\n",
        "    subha.email_id = email_id\n",
        "    subha.student_id = student_id\n",
        "  def return_student_details(subha):\n",
        "    return subha.phone_number, subha.email_id, subha.student_id"
      ],
      "metadata": {
        "id": "KGwkhuTZeuCH"
      },
      "execution_count": 18,
      "outputs": []
    },
    {
      "cell_type": "code",
      "source": [
        "subhadip = notusingSelf(98765,\"subhadip@gmail.com\", 543)"
      ],
      "metadata": {
        "id": "jhylrX1cfijL"
      },
      "execution_count": 20,
      "outputs": []
    },
    {
      "cell_type": "code",
      "source": [
        "subhadip.return_student_details()"
      ],
      "metadata": {
        "colab": {
          "base_uri": "https://localhost:8080/"
        },
        "id": "CYmfEElZfoGV",
        "outputId": "542cd025-8860-419c-840f-23ca77281e3e"
      },
      "execution_count": 22,
      "outputs": [
        {
          "output_type": "execute_result",
          "data": {
            "text/plain": [
              "(98765, 'subhadip@gmail.com', 543)"
            ]
          },
          "metadata": {},
          "execution_count": 22
        }
      ]
    },
    {
      "cell_type": "code",
      "source": [
        "class selfAssociatedObject:\n",
        "  def __init__(subha, phone_number, email_id, student_id):\n",
        "    subha.phone_number1 = phone_number\n",
        "    subha.email_id = email_id\n",
        "    subha.student_id = student_id\n",
        "  def return_student_details(subha):\n",
        "    return subha.phone_number, subha.email_id, subha.student_id"
      ],
      "metadata": {
        "id": "QrrEKC77gOEO"
      },
      "execution_count": 26,
      "outputs": []
    },
    {
      "cell_type": "code",
      "source": [
        "a = selfAssociatedObject(765,\"somthing@gmail.com\", 65)"
      ],
      "metadata": {
        "id": "VLBx1Mn0hExi"
      },
      "execution_count": 27,
      "outputs": []
    },
    {
      "cell_type": "code",
      "source": [
        "a.phone_number"
      ],
      "metadata": {
        "colab": {
          "base_uri": "https://localhost:8080/",
          "height": 165
        },
        "id": "dxqpmp0RhPda",
        "outputId": "d1f5d220-e00c-4740-8e0a-aaec4171414d"
      },
      "execution_count": 28,
      "outputs": [
        {
          "output_type": "error",
          "ename": "AttributeError",
          "evalue": "ignored",
          "traceback": [
            "\u001b[0;31m---------------------------------------------------------------------------\u001b[0m",
            "\u001b[0;31mAttributeError\u001b[0m                            Traceback (most recent call last)",
            "\u001b[0;32m<ipython-input-28-cebb19aabbe1>\u001b[0m in \u001b[0;36m<module>\u001b[0;34m\u001b[0m\n\u001b[0;32m----> 1\u001b[0;31m \u001b[0ma\u001b[0m\u001b[0;34m.\u001b[0m\u001b[0mphone_number\u001b[0m\u001b[0;34m\u001b[0m\u001b[0;34m\u001b[0m\u001b[0m\n\u001b[0m",
            "\u001b[0;31mAttributeError\u001b[0m: 'selfAssociatedObject' object has no attribute 'phone_number'"
          ]
        }
      ]
    },
    {
      "cell_type": "code",
      "source": [
        "a.phone_number1"
      ],
      "metadata": {
        "colab": {
          "base_uri": "https://localhost:8080/"
        },
        "id": "oQFo6FmGhSiT",
        "outputId": "4ec4ff55-d272-4baf-eae2-de19e3dbe770"
      },
      "execution_count": 29,
      "outputs": [
        {
          "output_type": "execute_result",
          "data": {
            "text/plain": [
              "765"
            ]
          },
          "metadata": {},
          "execution_count": 29
        }
      ]
    },
    {
      "cell_type": "code",
      "source": [
        "a.return_student_details()"
      ],
      "metadata": {
        "colab": {
          "base_uri": "https://localhost:8080/",
          "height": 252
        },
        "id": "sa2hQ9NBhaF9",
        "outputId": "42bb6ca2-25a4-41eb-8e1b-1ef75e836fa4"
      },
      "execution_count": 30,
      "outputs": [
        {
          "output_type": "error",
          "ename": "AttributeError",
          "evalue": "ignored",
          "traceback": [
            "\u001b[0;31m---------------------------------------------------------------------------\u001b[0m",
            "\u001b[0;31mAttributeError\u001b[0m                            Traceback (most recent call last)",
            "\u001b[0;32m<ipython-input-30-a4326e6c41bc>\u001b[0m in \u001b[0;36m<module>\u001b[0;34m\u001b[0m\n\u001b[0;32m----> 1\u001b[0;31m \u001b[0ma\u001b[0m\u001b[0;34m.\u001b[0m\u001b[0mreturn_student_details\u001b[0m\u001b[0;34m(\u001b[0m\u001b[0;34m)\u001b[0m\u001b[0;34m\u001b[0m\u001b[0;34m\u001b[0m\u001b[0m\n\u001b[0m",
            "\u001b[0;32m<ipython-input-26-cdcfd491d001>\u001b[0m in \u001b[0;36mreturn_student_details\u001b[0;34m(subha)\u001b[0m\n\u001b[1;32m      5\u001b[0m     \u001b[0msubha\u001b[0m\u001b[0;34m.\u001b[0m\u001b[0mstudent_id\u001b[0m \u001b[0;34m=\u001b[0m \u001b[0mstudent_id\u001b[0m\u001b[0;34m\u001b[0m\u001b[0;34m\u001b[0m\u001b[0m\n\u001b[1;32m      6\u001b[0m   \u001b[0;32mdef\u001b[0m \u001b[0mreturn_student_details\u001b[0m\u001b[0;34m(\u001b[0m\u001b[0msubha\u001b[0m\u001b[0;34m)\u001b[0m\u001b[0;34m:\u001b[0m\u001b[0;34m\u001b[0m\u001b[0;34m\u001b[0m\u001b[0m\n\u001b[0;32m----> 7\u001b[0;31m     \u001b[0;32mreturn\u001b[0m \u001b[0msubha\u001b[0m\u001b[0;34m.\u001b[0m\u001b[0mphone_number\u001b[0m\u001b[0;34m,\u001b[0m \u001b[0msubha\u001b[0m\u001b[0;34m.\u001b[0m\u001b[0memail_id\u001b[0m\u001b[0;34m,\u001b[0m \u001b[0msubha\u001b[0m\u001b[0;34m.\u001b[0m\u001b[0mstudent_id\u001b[0m\u001b[0;34m\u001b[0m\u001b[0;34m\u001b[0m\u001b[0m\n\u001b[0m",
            "\u001b[0;31mAttributeError\u001b[0m: 'selfAssociatedObject' object has no attribute 'phone_number'"
          ]
        }
      ]
    },
    {
      "cell_type": "markdown",
      "source": [
        "as you see the error that in constructor we have assign phone_number in phone_number1 but in return_student_details function returning subha.phone_number thats why its giving me error ! got it ?\n"
      ],
      "metadata": {
        "id": "qRwAhe6ch3Qc"
      }
    },
    {
      "cell_type": "code",
      "source": [],
      "metadata": {
        "id": "vWHLBnKSh1dM"
      },
      "execution_count": null,
      "outputs": []
    }
  ]
}