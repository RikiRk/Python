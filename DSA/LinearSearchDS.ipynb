{
 "cells": [
  {
   "cell_type": "markdown",
   "metadata": {},
   "source": [
    "where x is the list and query is the element which element I have to find from x \n",
    "index is the number of index of array \n",
    "we will write the test cases and verify the output with test cases. let see ....\n",
    "card = x\n",
    " "
   ]
  },
  {
   "cell_type": "code",
   "execution_count": null,
   "metadata": {},
   "outputs": [
    {
     "ename": "",
     "evalue": "",
     "output_type": "error",
     "traceback": [
      "\u001b[1;31mCanceled future for execute_request message before replies were done"
     ]
    },
    {
     "ename": "",
     "evalue": "",
     "output_type": "error",
     "traceback": [
      "The Kernel crashed while executing code in the the current cell or a previous cell. Please review the code in the cell(s) to identify a possible cause of the failure. Click <a href='https://aka.ms/vscodeJupyterKernelCrash'>here</a> for more info. View Jupyter <a href='command:jupyter.viewOutput'>log</a> for further details."
     ]
    }
   ],
   "source": [
    "test = {\n",
    "    \"input\" : {\n",
    "        \"x\" :[0,1,3,47,19,20,127,7,56,23,12,67],\n",
    "        \"query\": 7\n",
    "    },\n",
    "    \"output\": 7\n",
    "}"
   ]
  },
  {
   "cell_type": "markdown",
   "metadata": {},
   "source": [
    "Our function should be able to handle any set of valid inputs we pass into it. Here's a list of some possible variations we might encounter:\n",
    "\n",
    "The number query occurs somewhere in the middle of the list cards.\n",
    "query is the first element in cards.\n",
    "query is the last element in cards.\n",
    "The list cards contains just one element, which is query.\n",
    "The list cards does not contain number query.\n",
    "The list cards is empty.\n",
    "The list cards contains repeating numbers.\n",
    "The number query occurs at more than one position in cards.\n",
    "(can you think of any more variations?)\n",
    "Edge Cases: It's likely that you didn't think of all of the above cases when you read the problem for the first time. Some of these (like the empty array or query not occurring in cards) are called edge cases, as they represent rare or extreme examples.\n",
    "\n",
    "While edge cases may not occur frequently, your programs should be able to handle all edge cases, otherwise they may fail in unexpected ways. Let's create some more test cases for the variations listed above. We'll store all our test cases in an list for easier testing."
   ]
  },
  {
   "cell_type": "code",
   "execution_count": null,
   "metadata": {},
   "outputs": [],
   "source": [
    "tests = []\n",
    "\n",
    "tests.append(test)"
   ]
  },
  {
   "cell_type": "code",
   "execution_count": null,
   "metadata": {},
   "outputs": [],
   "source": [
    "# 1. query occur somwhere in the middile \n",
    "tests.append({\n",
    "    \"input\": {\n",
    "        \"x\":[12,54,11,3,1,5,9,33,0],\n",
    "        \"query\":9\n",
    "    },\n",
    "    \"output\":6\n",
    "})"
   ]
  },
  {
   "cell_type": "code",
   "execution_count": null,
   "metadata": {},
   "outputs": [],
   "source": [
    "# 2. query is the first element of x\n",
    "\n",
    "tests.append({\n",
    "    \"input\":{\n",
    "        \"x\":[12,13,56,19,112,45],\n",
    "        \"query\": 12\n",
    "    },\n",
    "    \"output\": 0\n",
    "})"
   ]
  },
  {
   "cell_type": "code",
   "execution_count": null,
   "metadata": {},
   "outputs": [],
   "source": [
    "# 3.  query is the last element of x\n",
    "\n",
    "tests.append({\n",
    "    \"input\":{\n",
    "        \"x\":[12,13,56,19,112,45],\n",
    "        \"query\":45\n",
    "    },\n",
    "    \"output\":5\n",
    "})"
   ]
  },
  {
   "cell_type": "code",
   "execution_count": null,
   "metadata": {},
   "outputs": [],
   "source": [
    "# 4. the list contain with only one element and that not match\n",
    "tests.append({\n",
    "    \"input\": {\n",
    "        \"x\":[6],\n",
    "        \"query\": 2\n",
    "\n",
    "    },\n",
    "    \"output\":-1\n",
    "})"
   ]
  },
  {
   "cell_type": "code",
   "execution_count": null,
   "metadata": {},
   "outputs": [],
   "source": [
    "# 5. the list contain with only one element and its a match \n",
    "\n",
    "tests.append({\n",
    "    \"input\":{\n",
    "        \"x\":[3],\n",
    "        \"query\":3\n",
    "    },\n",
    "    \"output\":0\n",
    "})"
   ]
  },
  {
   "cell_type": "code",
   "execution_count": null,
   "metadata": {},
   "outputs": [],
   "source": [
    "# 6. the list does not contain a query at all\n",
    "tests.append({\n",
    "    \"input\":{\n",
    "        \"x\":[10,13,14,15,16,17],\n",
    "        \"query\":22\n",
    "    },\n",
    "    \"output\": -1\n",
    "})"
   ]
  },
  {
   "cell_type": "code",
   "execution_count": null,
   "metadata": {},
   "outputs": [],
   "source": [
    "# 7. the list is empty\n",
    "tests.append({\n",
    "    \"input\":{\n",
    "        \"x\":[],\n",
    "        \"query\":2\n",
    "    },\n",
    "    \"output\":-1\n",
    "})"
   ]
  },
  {
   "cell_type": "code",
   "execution_count": null,
   "metadata": {},
   "outputs": [],
   "source": [
    "# 8. list has repeated number \n",
    "tests.append({\n",
    "    \"input\":{\n",
    "        \"x\": [4,4,4,5,5,6,6,7,8,8,9,9,0,1,1,1,2,4,5,7,6],\n",
    "        \"query\":0\n",
    "    },\n",
    "    \"output\":12\n",
    "})"
   ]
  },
  {
   "cell_type": "code",
   "execution_count": null,
   "metadata": {},
   "outputs": [],
   "source": [
    "# 9. in the list query has repeated manner \n",
    "tests.append({\n",
    "    \"input\":{\n",
    "        \"x\":[1,1,1,2,2,2,2,3,3,3,3,4,4,5,5,6,7,8,8,8,9],\n",
    "        \"query\":3\n",
    "    },\n",
    "    \"output\": 7\n",
    "})"
   ]
  },
  {
   "cell_type": "code",
   "execution_count": null,
   "metadata": {},
   "outputs": [
    {
     "data": {
      "text/plain": [
       "[{'input': {'x': [0, 1, 3, 47, 19, 20, 127, 7, 56, 23, 12, 67], 'query': 7},\n",
       "  'output': 7},\n",
       " {'input': {'x': [12, 54, 11, 3, 1, 5, 9, 33, 0], 'query': 9}, 'output': 6},\n",
       " {'input': {'x': [12, 13, 56, 19, 112, 45], 'query': 12}, 'output': 0},\n",
       " {'input': {'x': [12, 13, 56, 19, 112, 45], 'query': 45}, 'output': 5},\n",
       " {'input': {'x': [6], 'query': 2}, 'output': -1},\n",
       " {'input': {'x': [3], 'query': 3}, 'output': 0},\n",
       " {'input': {'x': [10, 13, 14, 15, 16, 17], 'query': 22}, 'output': -1},\n",
       " {'input': {'x': [], 'query': 2}, 'output': -1},\n",
       " {'input': {'x': [4,\n",
       "    4,\n",
       "    4,\n",
       "    5,\n",
       "    5,\n",
       "    6,\n",
       "    6,\n",
       "    7,\n",
       "    8,\n",
       "    8,\n",
       "    9,\n",
       "    9,\n",
       "    0,\n",
       "    1,\n",
       "    1,\n",
       "    1,\n",
       "    2,\n",
       "    4,\n",
       "    5,\n",
       "    7,\n",
       "    6],\n",
       "   'query': 0},\n",
       "  'output': 12},\n",
       " {'input': {'x': [1,\n",
       "    1,\n",
       "    1,\n",
       "    2,\n",
       "    2,\n",
       "    2,\n",
       "    2,\n",
       "    3,\n",
       "    3,\n",
       "    3,\n",
       "    3,\n",
       "    4,\n",
       "    4,\n",
       "    5,\n",
       "    5,\n",
       "    6,\n",
       "    7,\n",
       "    8,\n",
       "    8,\n",
       "    8,\n",
       "    9],\n",
       "   'query': 3},\n",
       "  'output': 7}]"
      ]
     },
     "execution_count": 95,
     "metadata": {},
     "output_type": "execute_result"
    }
   ],
   "source": [
    "tests"
   ]
  },
  {
   "cell_type": "code",
   "execution_count": null,
   "metadata": {},
   "outputs": [],
   "source": [
    "def locate_num(x, query):\n",
    "    index = 0\n",
    "    while True:\n",
    "        if x[index] == query:\n",
    "            return index\n",
    "        index += 1\n",
    "\n",
    "        if index == len(x):\n",
    "\n",
    "            return -1"
   ]
  },
  {
   "cell_type": "code",
   "execution_count": null,
   "metadata": {},
   "outputs": [
    {
     "data": {
      "text/plain": [
       "7"
      ]
     },
     "execution_count": 97,
     "metadata": {},
     "output_type": "execute_result"
    }
   ],
   "source": [
    "result = locate_num(test['input'][\"x\"], test[\"input\"][\"query\"])\n",
    "result"
   ]
  },
  {
   "cell_type": "code",
   "execution_count": null,
   "metadata": {},
   "outputs": [
    {
     "data": {
      "text/plain": [
       "True"
      ]
     },
     "execution_count": 98,
     "metadata": {},
     "output_type": "execute_result"
    }
   ],
   "source": [
    "result == test[\"output\"]\n"
   ]
  },
  {
   "cell_type": "code",
   "execution_count": null,
   "metadata": {},
   "outputs": [
    {
     "data": {
      "text/plain": [
       "True"
      ]
     },
     "execution_count": 99,
     "metadata": {},
     "output_type": "execute_result"
    }
   ],
   "source": [
    "result = locate_num(tests[1][\"input\"][\"x\"],tests[1][\"input\"][\"query\"])\n",
    "result\n",
    "result == tests[1][\"output\"]\n"
   ]
  },
  {
   "cell_type": "code",
   "execution_count": null,
   "metadata": {},
   "outputs": [
    {
     "data": {
      "text/plain": [
       "True"
      ]
     },
     "execution_count": 100,
     "metadata": {},
     "output_type": "execute_result"
    }
   ],
   "source": [
    "result = locate_num(tests[2][\"input\"][\"x\"],tests[2][\"input\"][\"query\"])\n",
    "result\n",
    "result == tests[2][\"output\"]\n"
   ]
  },
  {
   "cell_type": "code",
   "execution_count": null,
   "metadata": {},
   "outputs": [
    {
     "data": {
      "text/plain": [
       "True"
      ]
     },
     "execution_count": 101,
     "metadata": {},
     "output_type": "execute_result"
    }
   ],
   "source": [
    "result = locate_num(tests[3][\"input\"][\"x\"],tests[3][\"input\"][\"query\"])\n",
    "result\n",
    "result == tests[3][\"output\"]\n"
   ]
  },
  {
   "cell_type": "code",
   "execution_count": null,
   "metadata": {},
   "outputs": [
    {
     "data": {
      "text/plain": [
       "True"
      ]
     },
     "execution_count": 102,
     "metadata": {},
     "output_type": "execute_result"
    }
   ],
   "source": [
    "result = locate_num(tests[4][\"input\"][\"x\"],tests[4][\"input\"][\"query\"])\n",
    "result\n",
    "result == tests[4][\"output\"]"
   ]
  },
  {
   "cell_type": "code",
   "execution_count": null,
   "metadata": {},
   "outputs": [
    {
     "data": {
      "text/plain": [
       "True"
      ]
     },
     "execution_count": 103,
     "metadata": {},
     "output_type": "execute_result"
    }
   ],
   "source": [
    "result = locate_num(tests[5][\"input\"][\"x\"],tests[5][\"input\"][\"query\"])\n",
    "result\n",
    "result == tests[5][\"output\"]\n"
   ]
  },
  {
   "cell_type": "code",
   "execution_count": null,
   "metadata": {},
   "outputs": [
    {
     "data": {
      "text/plain": [
       "True"
      ]
     },
     "execution_count": 104,
     "metadata": {},
     "output_type": "execute_result"
    }
   ],
   "source": [
    "result = locate_num(tests[6][\"input\"][\"x\"],tests[6][\"input\"][\"query\"])\n",
    "result\n",
    "result == tests[6][\"output\"]"
   ]
  },
  {
   "cell_type": "code",
   "execution_count": null,
   "metadata": {},
   "outputs": [
    {
     "data": {
      "text/plain": [
       "True"
      ]
     },
     "execution_count": 105,
     "metadata": {},
     "output_type": "execute_result"
    }
   ],
   "source": [
    "result = locate_num(tests[6][\"input\"][\"x\"],tests[6][\"input\"][\"query\"])\n",
    "result\n",
    "result == tests[6][\"output\"]"
   ]
  },
  {
   "cell_type": "code",
   "execution_count": null,
   "metadata": {},
   "outputs": [
    {
     "ename": "IndexError",
     "evalue": "list index out of range",
     "output_type": "error",
     "traceback": [
      "\u001b[1;31m---------------------------------------------------------------------------\u001b[0m",
      "\u001b[1;31mIndexError\u001b[0m                                Traceback (most recent call last)",
      "\u001b[1;32mc:\\Users\\subha\\OneDrive\\Desktop\\Machinelearning\\python\\LinearSearchDS.ipynb Cell 25\u001b[0m in \u001b[0;36m<cell line: 1>\u001b[1;34m()\u001b[0m\n\u001b[1;32m----> <a href='vscode-notebook-cell:/c%3A/Users/subha/OneDrive/Desktop/Machinelearning/python/LinearSearchDS.ipynb#X33sZmlsZQ%3D%3D?line=0'>1</a>\u001b[0m result \u001b[39m=\u001b[39m locate_num(tests[\u001b[39m7\u001b[39;49m][\u001b[39m\"\u001b[39;49m\u001b[39minput\u001b[39;49m\u001b[39m\"\u001b[39;49m][\u001b[39m\"\u001b[39;49m\u001b[39mx\u001b[39;49m\u001b[39m\"\u001b[39;49m],tests[\u001b[39m7\u001b[39;49m][\u001b[39m\"\u001b[39;49m\u001b[39minput\u001b[39;49m\u001b[39m\"\u001b[39;49m][\u001b[39m\"\u001b[39;49m\u001b[39mquery\u001b[39;49m\u001b[39m\"\u001b[39;49m])\n\u001b[0;32m      <a href='vscode-notebook-cell:/c%3A/Users/subha/OneDrive/Desktop/Machinelearning/python/LinearSearchDS.ipynb#X33sZmlsZQ%3D%3D?line=1'>2</a>\u001b[0m result\n\u001b[0;32m      <a href='vscode-notebook-cell:/c%3A/Users/subha/OneDrive/Desktop/Machinelearning/python/LinearSearchDS.ipynb#X33sZmlsZQ%3D%3D?line=2'>3</a>\u001b[0m result \u001b[39m==\u001b[39m tests[\u001b[39m7\u001b[39m][\u001b[39m\"\u001b[39m\u001b[39moutput\u001b[39m\u001b[39m\"\u001b[39m]\n",
      "\u001b[1;32mc:\\Users\\subha\\OneDrive\\Desktop\\Machinelearning\\python\\LinearSearchDS.ipynb Cell 25\u001b[0m in \u001b[0;36mlocate_num\u001b[1;34m(x, query)\u001b[0m\n\u001b[0;32m      <a href='vscode-notebook-cell:/c%3A/Users/subha/OneDrive/Desktop/Machinelearning/python/LinearSearchDS.ipynb#X33sZmlsZQ%3D%3D?line=1'>2</a>\u001b[0m index \u001b[39m=\u001b[39m \u001b[39m0\u001b[39m\n\u001b[0;32m      <a href='vscode-notebook-cell:/c%3A/Users/subha/OneDrive/Desktop/Machinelearning/python/LinearSearchDS.ipynb#X33sZmlsZQ%3D%3D?line=2'>3</a>\u001b[0m \u001b[39mwhile\u001b[39;00m \u001b[39mTrue\u001b[39;00m:\n\u001b[1;32m----> <a href='vscode-notebook-cell:/c%3A/Users/subha/OneDrive/Desktop/Machinelearning/python/LinearSearchDS.ipynb#X33sZmlsZQ%3D%3D?line=3'>4</a>\u001b[0m     \u001b[39mif\u001b[39;00m x[index] \u001b[39m==\u001b[39m query:\n\u001b[0;32m      <a href='vscode-notebook-cell:/c%3A/Users/subha/OneDrive/Desktop/Machinelearning/python/LinearSearchDS.ipynb#X33sZmlsZQ%3D%3D?line=4'>5</a>\u001b[0m         \u001b[39mreturn\u001b[39;00m index\n\u001b[0;32m      <a href='vscode-notebook-cell:/c%3A/Users/subha/OneDrive/Desktop/Machinelearning/python/LinearSearchDS.ipynb#X33sZmlsZQ%3D%3D?line=5'>6</a>\u001b[0m     index \u001b[39m+\u001b[39m\u001b[39m=\u001b[39m \u001b[39m1\u001b[39m\n",
      "\u001b[1;31mIndexError\u001b[0m: list index out of range"
     ]
    }
   ],
   "source": [
    "result = locate_num(tests[7][\"input\"][\"x\"],tests[7][\"input\"][\"query\"])\n",
    "result\n",
    "result == tests[7][\"output\"]"
   ]
  },
  {
   "cell_type": "markdown",
   "metadata": {},
   "source": [
    "# blank array thats why we got error\n",
    "we have to modify the code that if array is a blank then it will return -1 "
   ]
  },
  {
   "cell_type": "code",
   "execution_count": null,
   "metadata": {},
   "outputs": [
    {
     "data": {
      "text/plain": [
       "True"
      ]
     },
     "execution_count": 55,
     "metadata": {},
     "output_type": "execute_result"
    }
   ],
   "source": [
    "result = locate_num(tests[8][\"input\"][\"x\"],tests[8][\"input\"][\"query\"])\n",
    "result\n",
    "result == tests[8][\"output\"]"
   ]
  },
  {
   "cell_type": "code",
   "execution_count": null,
   "metadata": {},
   "outputs": [
    {
     "data": {
      "text/plain": [
       "True"
      ]
     },
     "execution_count": 56,
     "metadata": {},
     "output_type": "execute_result"
    }
   ],
   "source": [
    "result = locate_num(tests[9][\"input\"][\"x\"],tests[9][\"input\"][\"query\"])\n",
    "result\n",
    "result == tests[9][\"output\"]"
   ]
  },
  {
   "cell_type": "markdown",
   "metadata": {},
   "source": [
    "here we passed thw all test cases which we had made except one that if our array is blank then what to do we will do that !!\n",
    "# lets modify \n"
   ]
  },
  {
   "cell_type": "code",
   "execution_count": null,
   "metadata": {},
   "outputs": [],
   "source": [
    "def locate_num(x, query):\n",
    "    index = 0\n",
    "    while index < len(x):\n",
    "        if x[index] == query:\n",
    "            return index\n",
    "        index += 1        \n",
    "    return -1"
   ]
  },
  {
   "cell_type": "markdown",
   "metadata": {},
   "source": [
    "now we will pass the test cases "
   ]
  },
  {
   "cell_type": "code",
   "execution_count": null,
   "metadata": {},
   "outputs": [
    {
     "data": {
      "text/plain": [
       "True"
      ]
     },
     "execution_count": 58,
     "metadata": {},
     "output_type": "execute_result"
    }
   ],
   "source": [
    "result = locate_num(tests[7][\"input\"][\"x\"],tests[7][\"input\"][\"query\"])\n",
    "result\n",
    "result == tests[7][\"output\"]"
   ]
  },
  {
   "cell_type": "markdown",
   "metadata": {},
   "source": [
    "for verification we will test one test cases that everything is good ! 😁👌"
   ]
  },
  {
   "cell_type": "code",
   "execution_count": null,
   "metadata": {},
   "outputs": [
    {
     "data": {
      "text/plain": [
       "-1"
      ]
     },
     "execution_count": 62,
     "metadata": {},
     "output_type": "execute_result"
    }
   ],
   "source": [
    "result = locate_num(tests[9][\"input\"][\"x\"],tests[9][\"input\"][\"query\"])\n",
    "result\n",
    "# result == tests[9][\"output\"]\n"
   ]
  },
  {
   "cell_type": "code",
   "execution_count": null,
   "metadata": {},
   "outputs": [
    {
     "data": {
      "text/plain": [
       "True"
      ]
     },
     "execution_count": 60,
     "metadata": {},
     "output_type": "execute_result"
    }
   ],
   "source": [
    "result = locate_num(tests[4][\"input\"][\"x\"],tests[4][\"input\"][\"query\"])\n",
    "result\n",
    "result == tests[4][\"output\"]"
   ]
  },
  {
   "cell_type": "code",
   "execution_count": null,
   "metadata": {},
   "outputs": [],
   "source": []
  }
 ],
 "metadata": {
  "kernelspec": {
   "display_name": "Python 3.9.12 ('base')",
   "language": "python",
   "name": "python3"
  },
  "language_info": {
   "codemirror_mode": {
    "name": "ipython",
    "version": 3
   },
   "file_extension": ".py",
   "mimetype": "text/x-python",
   "name": "python",
   "nbconvert_exporter": "python",
   "pygments_lexer": "ipython3",
   "version": "3.9.12"
  },
  "orig_nbformat": 4,
  "vscode": {
   "interpreter": {
    "hash": "2669db33fe49d209d340d78c0a81a3bc38fc609ba06a227c0dcf99836b88eac2"
   }
  }
 },
 "nbformat": 4,
 "nbformat_minor": 2
}
