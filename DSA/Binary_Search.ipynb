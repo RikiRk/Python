{
 "cells": [
  {
   "cell_type": "code",
   "execution_count": null,
   "metadata": {},
   "outputs": [],
   "source": [
    "def locate_num(arr, query):\n",
    "    lo, hi = 0 , len(arr)-1\n",
    "    while lo <= hi:\n",
    "        mid = (lo+hi) // 2\n",
    "        mid_arr = arr[mid]\n",
    "\n",
    "        print(\"lo:\",lo ,\" hi:\",hi,\" mid:\", mid, \" mid_arr:\",mid_arr)\n",
    "        if mid_arr == query:\n",
    "            return mid\n",
    "        elif mid_arr > query:\n",
    "            hi = mid-1\n",
    "        elif mid_arr < query:\n",
    "            lo= mid+1\n",
    "      \n",
    "    return -1\n",
    "x = locate_num([1,2,3,4,5,6,7,8,9], 6)\n",
    "print(x)"
   ]
  },
  {
   "cell_type": "markdown",
   "metadata": {},
   "source": [
    "here just a glimps of what and how it is happening the binary seatch !! but here we will get a error if we have a same number in array then this program cant handle it !!. now we will write a end to end code ! \n",
    "here it is look below 👇👇👇"
   ]
  },
  {
   "cell_type": "code",
   "execution_count": 3,
   "metadata": {},
   "outputs": [
    {
     "name": "stdout",
     "output_type": "stream",
     "text": [
      "mid:  5  mid_number:  6\n",
      "5\n"
     ]
    }
   ],
   "source": [
    "def test_locate(arr, query, mid):\n",
    "    mid_number = arr[mid]\n",
    "    print(\"mid: \",mid,\" mid_number: \", mid_number)\n",
    "    if mid_number == query:\n",
    "        if mid - 1 and arr[mid - 1] == query:\n",
    "            return \"left\"\n",
    "        else:\n",
    "            return \"found\"\n",
    "    elif mid_number < query:\n",
    "        return \"left\"\n",
    "    else:\n",
    "        return \"right\"\n",
    "\n",
    "def locate_num(arr, query):\n",
    "    lo, hi = 0 , len(arr)-1\n",
    "    while lo <= hi:\n",
    "        mid = (lo+hi) // 2\n",
    "        mid_arr = test_locate(arr,query,mid)\n",
    "\n",
    "        # print(\"lo:\",lo ,\" hi:\",hi,\" mid:\", mid, \" mid_arr:\",mid_arr)\n",
    "        if mid_arr == \"found\":\n",
    "            return mid\n",
    "        elif mid_arr == \"left\":\n",
    "            hi = mid-1\n",
    "        elif mid_arr == \"right\":\n",
    "            lo= mid+1\n",
    "      \n",
    "    return -1\n",
    "x = locate_num([1,2,3,4,5,6,6,6,7,8,9], 6)\n",
    "print(x)"
   ]
  },
  {
   "cell_type": "code",
   "execution_count": 2,
   "metadata": {},
   "outputs": [
    {
     "data": {
      "text/plain": [
       "6"
      ]
     },
     "execution_count": 2,
     "metadata": {},
     "output_type": "execute_result"
    }
   ],
   "source": [
    "int(13/2)\n"
   ]
  },
  {
   "cell_type": "code",
   "execution_count": null,
   "metadata": {},
   "outputs": [],
   "source": []
  }
 ],
 "metadata": {
  "kernelspec": {
   "display_name": "Python 3.9.12 ('base')",
   "language": "python",
   "name": "python3"
  },
  "language_info": {
   "codemirror_mode": {
    "name": "ipython",
    "version": 3
   },
   "file_extension": ".py",
   "mimetype": "text/x-python",
   "name": "python",
   "nbconvert_exporter": "python",
   "pygments_lexer": "ipython3",
   "version": "3.9.12"
  },
  "orig_nbformat": 4,
  "vscode": {
   "interpreter": {
    "hash": "2669db33fe49d209d340d78c0a81a3bc38fc609ba06a227c0dcf99836b88eac2"
   }
  }
 },
 "nbformat": 4,
 "nbformat_minor": 2
}
